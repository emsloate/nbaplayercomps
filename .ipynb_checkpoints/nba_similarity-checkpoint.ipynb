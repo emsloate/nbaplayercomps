{
 "cells": [
  {
   "cell_type": "code",
   "execution_count": 1,
   "metadata": {
    "collapsed": false
   },
   "outputs": [],
   "source": [
    "import numpy as np\n",
    "import pandas as pd\n",
    "import json\n",
    "import urllib.request\n",
    "from selenium import webdriver\n",
    "from selenium.webdriver.common.keys import Keys"
   ]
  },
  {
   "cell_type": "code",
   "execution_count": 14,
   "metadata": {
    "collapsed": false
   },
   "outputs": [
    {
     "data": {
      "text/plain": [
       "'\\nLeagueID: \"00\"\\nPerMode: \"Totals\"\\nPlayType: \"Isolation\"\\nPlayerOrTeam: \"P\"\\nSeasonType: \"Regular Season\"\\nSeasonYear: \"2018-19\"\\nTypeGrouping: \"offensive\" \\n'"
      ]
     },
     "execution_count": 14,
     "metadata": {},
     "output_type": "execute_result"
    }
   ],
   "source": [
    "#API Format\n",
    "\n",
    "\"\"\"\n",
    "LeagueID: \"00\"\n",
    "PerMode: \"Totals\"\n",
    "PlayType: \"Isolation\"\n",
    "PlayerOrTeam: \"P\"\n",
    "SeasonType: \"Regular Season\"\n",
    "SeasonYear: \"2018-19\"\n",
    "TypeGrouping: \"offensive\" \n",
    "\"\"\"\n",
    "#ex: https://stats.nba.com/stats/synergyplaytypes?LeagueID=00&PerMode=PerGame&PlayType=Isolation&PlayerOrTeam=P&SeasonType=Regular+Season&SeasonYear=2018-19&TypeGrouping=offensive"
   ]
  },
  {
   "cell_type": "code",
   "execution_count": 15,
   "metadata": {
    "collapsed": false
   },
   "outputs": [],
   "source": [
    "driver = webdriver.Chrome()"
   ]
  },
  {
   "cell_type": "code",
   "execution_count": 12,
   "metadata": {
    "collapsed": true
   },
   "outputs": [],
   "source": [
    "#Play types and seasons for which data exists for\n",
    "play_types = ['Transition','Isolation','PRBallHandler','PRRollman','Postup','Spotup','Handoff','Cut','OffScreen','OffRebound','Misc']\n",
    "seasons = ['2015-16','2016-17','2017-18','2018-19']"
   ]
  },
  {
   "cell_type": "code",
   "execution_count": 17,
   "metadata": {
    "collapsed": false
   },
   "outputs": [],
   "source": [
    "def get_data_for_season(season):\n",
    "    #gets all player data for the season\n",
    "    players_dict = {}\n",
    "    play_types = ['Transition','Isolation','PRBallHandler','PRRollman','Postup','Spotup','Handoff','Cut','OffScreen','OffRebound','Misc']\n",
    "    #loop through all play categories, add player (if not already added) and stat for player\n",
    "    for play_type in play_types:\n",
    "        url = \"https://stats.nba.com/stats/synergyplaytypes?LeagueID=00&PerMode=Totals&PlayType={}&PlayerOrTeam=P&SeasonType=Regular+Season&SeasonYear={}&TypeGrouping=offensive\".format(play_type,season)\n",
    "        driver.get(url)\n",
    "        element = driver.find_element_by_tag_name(\"pre\")\n",
    "        data = json.loads(element.text)\n",
    "        #gets data for all players in category\n",
    "        players_data = data[\"resultSets\"][0][\"rowSet\"]\n",
    "        for player_row in players_data:\n",
    "            #get player name, percent of plays that are of play_type\n",
    "            name = player_row[2]\n",
    "            play_pct = player_row[10]\n",
    "            \n",
    "            #if player isn't in our player\n",
    "            if name not in players_dict.keys():\n",
    "                players_dict[name] = {\"season\":season}\n",
    "            #add play & pct to player_dict\n",
    "            players_dict[name][play_type] = play_pct\n",
    "            \n",
    "    #loop through each category, if player does not have it, add value as None\n",
    "    for player in players_dict.keys():\n",
    "        for play_type in play_types:\n",
    "            if play_type not in players_dict[player].keys():\n",
    "                players_dict[player][play_type] = None\n",
    "\n",
    "    # convert dictionary to dataframe\n",
    "    df = pd.DataFrame.from_dict(players_dict,orient = 'index')\n",
    "    return df\n"
   ]
  },
  {
   "cell_type": "code",
   "execution_count": 18,
   "metadata": {
    "collapsed": false
   },
   "outputs": [],
   "source": [
    "#get a dataframe for each season\n",
    "df_15 = get_data_for_season('2015-16')\n",
    "df_16 = get_data_for_season('2016-17')\n",
    "df_17 = get_data_for_season('2017-18')\n",
    "df_18 = get_data_for_season('2018-19')"
   ]
  },
  {
   "cell_type": "code",
   "execution_count": 38,
   "metadata": {
    "collapsed": false
   },
   "outputs": [],
   "source": [
    "#fill na as 0 (means they do that action 0 % of the time), combine the dataframes\n",
    "combined_df = pd.concat([df_15,df_16,df_17,df_18])\n",
    "combined_df = combined_df.fillna(0)\n",
    "combined_multi = combined_df.set_index([combined_df.index,'season'])\n"
   ]
  },
  {
   "cell_type": "markdown",
   "metadata": {},
   "source": [
    "If running for the first time, can save to csv\n"
   ]
  },
  {
   "cell_type": "code",
   "execution_count": 4,
   "metadata": {
    "collapsed": false
   },
   "outputs": [],
   "source": [
    "#path = 'seasons.csv'\n",
    "#combined_multi.to_csv(path)"
   ]
  },
  {
   "cell_type": "markdown",
   "metadata": {},
   "source": [
    "If running a subsquent time, start here and load the csv\n"
   ]
  },
  {
   "cell_type": "code",
   "execution_count": 5,
   "metadata": {
    "collapsed": true
   },
   "outputs": [],
   "source": [
    "# combined_csv = pd.read_csv('seasons.csv')\n",
    "# combined_csv = combined_csv.rename(columns = {'Unnamed: 0':\"player\"})\n",
    "# combined_csv = combined_csv.set_index(['player','season'])"
   ]
  },
  {
   "cell_type": "code",
   "execution_count": 6,
   "metadata": {
    "collapsed": false
   },
   "outputs": [],
   "source": [
    "def get_player_comp(playstyle):\n",
    "    scores = []\n",
    "    #for each row, get distance b/t playstyle and row\n",
    "    for row in combined_csv.values.tolist():\n",
    "        np_row = np.array(row)\n",
    "        scores.append(np.sum(np.absolute(playstyle - np_row)))\n",
    "    \n",
    "    top5_indices = [scores.index(x) for x in sorted(scores)[:5]]\n",
    "\n",
    "    players = []\n",
    "    for index in top5_indices:\n",
    "        players.append(combined_csv.iloc[index].name)\n",
    "        \n",
    "    return players\n",
    "    "
   ]
  },
  {
   "cell_type": "code",
   "execution_count": 7,
   "metadata": {
    "collapsed": false
   },
   "outputs": [],
   "source": [
    "#enter styles, here, should be decimals tha\n",
    "pr_roll = 0.1\n",
    "iso = .10\n",
    "putbacks = 0.10\n",
    "cut = .05\n",
    "postup = 0.35\n",
    "misc = 0\n",
    "transition = 0.2\n",
    "spotup = 0.0\n",
    "handoff = 0.00\n",
    "offscreen = 0\n",
    "pr_ballhandler = 0.1\n",
    "\n",
    "playstyle = np.array([pr_roll,iso,putbacks,cut,postup,misc,transition,spotup,handoff,offscreen,pr_ballhandler],dtype = \"float32\")"
   ]
  },
  {
   "cell_type": "code",
   "execution_count": 8,
   "metadata": {
    "collapsed": false
   },
   "outputs": [
    {
     "data": {
      "text/plain": [
       "1.0"
      ]
     },
     "execution_count": 8,
     "metadata": {},
     "output_type": "execute_result"
    }
   ],
   "source": [
    "np.sum(playstyle)"
   ]
  },
  {
   "cell_type": "code",
   "execution_count": 11,
   "metadata": {
    "collapsed": false
   },
   "outputs": [
    {
     "data": {
      "text/plain": [
       "[('Marvin Bagley III', '2018-19'),\n",
       " ('Julius Randle', '2017-18'),\n",
       " ('Zach Randolph', '2015-16'),\n",
       " ('Jahlil Okafor', '2015-16'),\n",
       " ('Jahlil Okafor', '2018-19')]"
      ]
     },
     "execution_count": 11,
     "metadata": {},
     "output_type": "execute_result"
    }
   ],
   "source": [
    "res = get_player_comp(playstyle)\n",
    "res"
   ]
  },
  {
   "cell_type": "code",
   "execution_count": null,
   "metadata": {
    "collapsed": true
   },
   "outputs": [],
   "source": []
  }
 ],
 "metadata": {
  "anaconda-cloud": {},
  "kernelspec": {
   "display_name": "Python [default]",
   "language": "python",
   "name": "python3"
  },
  "language_info": {
   "codemirror_mode": {
    "name": "ipython",
    "version": 3
   },
   "file_extension": ".py",
   "mimetype": "text/x-python",
   "name": "python",
   "nbconvert_exporter": "python",
   "pygments_lexer": "ipython3",
   "version": "3.5.2"
  }
 },
 "nbformat": 4,
 "nbformat_minor": 1
}
