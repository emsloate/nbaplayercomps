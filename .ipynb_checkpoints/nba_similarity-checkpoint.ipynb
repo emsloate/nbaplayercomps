{
 "cells": [
  {
   "cell_type": "code",
   "execution_count": 1,
   "metadata": {
    "collapsed": false
   },
   "outputs": [],
   "source": [
    "import numpy as np\n",
    "import pandas as pd\n",
    "import json\n",
    "import urllib.request\n",
    "from selenium import webdriver\n",
    "from selenium.webdriver.common.keys import Keys"
   ]
  },
  {
   "cell_type": "code",
   "execution_count": 14,
   "metadata": {
    "collapsed": false
   },
   "outputs": [
    {
     "data": {
      "text/plain": [
       "'\\nLeagueID: \"00\"\\nPerMode: \"Totals\"\\nPlayType: \"Isolation\"\\nPlayerOrTeam: \"P\"\\nSeasonType: \"Regular Season\"\\nSeasonYear: \"2018-19\"\\nTypeGrouping: \"offensive\" \\n'"
      ]
     },
     "execution_count": 14,
     "metadata": {},
     "output_type": "execute_result"
    }
   ],
   "source": [
    "#API Format\n",
    "\n",
    "\"\"\"\n",
    "LeagueID: \"00\"\n",
    "PerMode: \"Totals\"\n",
    "PlayType: \"Isolation\"\n",
    "PlayerOrTeam: \"P\"\n",
    "SeasonType: \"Regular Season\"\n",
    "SeasonYear: \"2018-19\"\n",
    "TypeGrouping: \"offensive\" \n",
    "\"\"\"\n",
    "#ex: https://stats.nba.com/stats/synergyplaytypes?LeagueID=00&PerMode=PerGame&PlayType=Isolation&PlayerOrTeam=P&SeasonType=Regular+Season&SeasonYear=2018-19&TypeGrouping=offensive"
   ]
  },
  {
   "cell_type": "code",
   "execution_count": 15,
   "metadata": {
    "collapsed": false
   },
   "outputs": [],
   "source": [
    "driver = webdriver.Chrome()"
   ]
  },
  {
   "cell_type": "code",
   "execution_count": 16,
   "metadata": {
    "collapsed": true
   },
   "outputs": [],
   "source": [
    "url = \"https://stats.nba.com/stats/synergyplaytypes?LeagueID=00&PerMode=Totals&PlayType=Isolation&PlayerOrTeam=P&SeasonType=Regular+Season&SeasonYear=2018-19&TypeGrouping=offensive\"\n",
    "play_types = ['Transition','Isolation','PRBallHandler','PRRollman','Postup','Spotup','Handoff','Cut','OffScreen','OffRebound','Misc']\n",
    "seasons = ['2015-16','2016-17','2017-18','2018-19']"
   ]
  },
  {
   "cell_type": "code",
   "execution_count": 17,
   "metadata": {
    "collapsed": false
   },
   "outputs": [],
   "source": [
    "def get_data_for_season(season):\n",
    "    #gets all player data for the season\n",
    "    players_dict = {}\n",
    "    play_types = ['Transition','Isolation','PRBallHandler','PRRollman','Postup','Spotup','Handoff','Cut','OffScreen','OffRebound','Misc']\n",
    "    #loop through all play categories, add player (if not already added) and stat for player\n",
    "    for play_type in play_types:\n",
    "        url = \"https://stats.nba.com/stats/synergyplaytypes?LeagueID=00&PerMode=Totals&PlayType={}&PlayerOrTeam=P&SeasonType=Regular+Season&SeasonYear={}&TypeGrouping=offensive\".format(play_type,season)\n",
    "        driver.get(url)\n",
    "        element = driver.find_element_by_tag_name(\"pre\")\n",
    "        data = json.loads(element.text)\n",
    "        #gets data for all players in category\n",
    "        players_data = data[\"resultSets\"][0][\"rowSet\"]\n",
    "        for player_row in players_data:\n",
    "            #get player name, percent of plays that are of play_type\n",
    "            name = player_row[2]\n",
    "            play_pct = player_row[10]\n",
    "            \n",
    "            #if player isn't in our player\n",
    "            if name not in players_dict.keys():\n",
    "                players_dict[name] = {\"season\":season}\n",
    "            #add play & pct to player_dict\n",
    "            players_dict[name][play_type] = play_pct\n",
    "            \n",
    "    #loop through each category, if player does not have it, add value as None\n",
    "    for player in players_dict.keys():\n",
    "        for play_type in play_types:\n",
    "            if play_type not in players_dict[player].keys():\n",
    "                players_dict[player][play_type] = None\n",
    "\n",
    "    # convert dictionary to dataframe\n",
    "    df = pd.DataFrame.from_dict(players_dict,orient = 'index')\n",
    "    return df\n"
   ]
  },
  {
   "cell_type": "code",
   "execution_count": 18,
   "metadata": {
    "collapsed": false
   },
   "outputs": [],
   "source": [
    "df_15 = get_data_for_season('2015-16')\n",
    "df_16 = get_data_for_season('2016-17')\n",
    "df_17 = get_data_for_season('2017-18')\n",
    "df_18 = get_data_for_season('2018-19')"
   ]
  },
  {
   "cell_type": "code",
   "execution_count": 38,
   "metadata": {
    "collapsed": false
   },
   "outputs": [],
   "source": [
    "combined_df = pd.concat([df_15,df_16,df_17,df_18])\n",
    "combined_df = combined_df.fillna(0)\n",
    "combined_multi = combined_df.set_index([combined_df.index,'season'])\n"
   ]
  },
  {
   "cell_type": "code",
   "execution_count": 35,
   "metadata": {
    "collapsed": true
   },
   "outputs": [],
   "source": [
    "#combined_multi.to_csv('seasons.csv')"
   ]
  },
  {
   "cell_type": "code",
   "execution_count": 21,
   "metadata": {
    "collapsed": false
   },
   "outputs": [],
   "source": [
    "combined_csv = pd.read_csv('seasons.csv')\n",
    "combined_csv = combined_csv.rename(columns = {'Unnamed: 0':\"player\"})\n",
    "combined_csv = combined_csv.set_index(['player','season'])"
   ]
  },
  {
   "cell_type": "code",
   "execution_count": 22,
   "metadata": {
    "collapsed": false
   },
   "outputs": [],
   "source": [
    "def get_player_comp(playstyle):\n",
    "    scores = []\n",
    "    #for each row, get distance b/t playstyle and row\n",
    "    for row in combined_csv.values.tolist():\n",
    "        np_row = np.array(row)\n",
    "        scores.append(np.sum(np.absolute(playstyle - np_row)))\n",
    "    \n",
    "    top5_indices = [scores.index(x) for x in sorted(scores)[:5]]\n",
    "\n",
    "    players = []\n",
    "    for index in top5_indices:\n",
    "        players.append(combined_csv.iloc[index].name)\n",
    "        \n",
    "    return players\n",
    "    "
   ]
  },
  {
   "cell_type": "code",
   "execution_count": 137,
   "metadata": {
    "collapsed": false
   },
   "outputs": [],
   "source": [
    "pr_roll = 0.05\n",
    "iso = .25\n",
    "putbacks = 0.05\n",
    "cut = .15\n",
    "postup = 0\n",
    "misc = 0\n",
    "transition = 0.2\n",
    "spotup = .15\n",
    "handoff = 0.05\n",
    "offscreen = 0\n",
    "pr_ballhandler = 0.1\n",
    "\n",
    "playstyle = np.array([pr_roll,iso,putbacks,cut,postup,misc,transition,spotup,handoff,offscreen,pr_ballhandler],dtype = \"float32\")"
   ]
  },
  {
   "cell_type": "code",
   "execution_count": 156,
   "metadata": {
    "collapsed": false
   },
   "outputs": [
    {
     "data": {
      "text/plain": [
       "1.0000001"
      ]
     },
     "execution_count": 156,
     "metadata": {},
     "output_type": "execute_result"
    }
   ],
   "source": [
    "np.sum(zach)"
   ]
  },
  {
   "cell_type": "code",
   "execution_count": 23,
   "metadata": {
    "collapsed": false
   },
   "outputs": [
    {
     "data": {
      "text/plain": [
       "[('Michael Beasley', '2018-19'),\n",
       " ('Julius Randle', '2015-16'),\n",
       " ('Michael Beasley', '2015-16'),\n",
       " ('Paul Millsap', '2018-19'),\n",
       " ('Rudy Gay', '2017-18')]"
      ]
     },
     "execution_count": 23,
     "metadata": {},
     "output_type": "execute_result"
    }
   ],
   "source": [
    "res = get_player_comp(jake)\n",
    "res"
   ]
  },
  {
   "cell_type": "code",
   "execution_count": 151,
   "metadata": {
    "collapsed": false
   },
   "outputs": [],
   "source": [
    "series = combined_multi.sum()\n",
    "series = series/ series.sum()"
   ]
  },
  {
   "cell_type": "code",
   "execution_count": 19,
   "metadata": {
    "collapsed": false
   },
   "outputs": [],
   "source": [
    "spencer = np.array([0.15,0,0.1,0.1,0.05,0.04,0.01,0.4,0,0,0],\"float32\")\n",
    "zach = np.array([0,0.05,0,0.1,0,0.05,0.1,0.6,0.05,0.05,0],\"float32\")\n",
    "danny = np.array([0.12,0.13,0.25,0.15,0.03,0,0.15,0.1,0,0,0.07],\"float32\")\n",
    "jake = np.array([0.08,0.18,0.13,0.14,0.11,0,0.08,0.18,0,0.02,0.08],\"float32\")"
   ]
  },
  {
   "cell_type": "code",
   "execution_count": null,
   "metadata": {
    "collapsed": true
   },
   "outputs": [],
   "source": []
  }
 ],
 "metadata": {
  "anaconda-cloud": {},
  "kernelspec": {
   "display_name": "Python [default]",
   "language": "python",
   "name": "python3"
  },
  "language_info": {
   "codemirror_mode": {
    "name": "ipython",
    "version": 3
   },
   "file_extension": ".py",
   "mimetype": "text/x-python",
   "name": "python",
   "nbconvert_exporter": "python",
   "pygments_lexer": "ipython3",
   "version": "3.5.2"
  }
 },
 "nbformat": 4,
 "nbformat_minor": 1
}
